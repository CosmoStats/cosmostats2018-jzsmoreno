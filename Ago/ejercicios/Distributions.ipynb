{
 "cells": [
  {
   "cell_type": "markdown",
   "metadata": {},
   "source": [
    "# Gráficas de diversas distribuciones de Probabilidad\n",
    "## Implementación en Python \n",
    "### José Alberto Moreno Guerra"
   ]
  },
  {
   "cell_type": "code",
   "execution_count": 1,
   "metadata": {},
   "outputs": [
    {
     "name": "stdout",
     "output_type": "stream",
     "text": [
      "Populating the interactive namespace from numpy and matplotlib\n"
     ]
    }
   ],
   "source": [
    "%pylab inline\n",
    "import numpy as np\n",
    "import matplotlib.pylab as plt\n",
    "import scipy.stats as st\n",
    "from scipy.stats import binom\n",
    "from scipy.stats import poisson\n",
    "from scipy.stats import chi2\n",
    "from scipy.stats import beta"
   ]
  },
  {
   "cell_type": "markdown",
   "metadata": {},
   "source": [
    "### Se le pide al usuario ingresar el número de datos que desea tener y las variables correspondientes a cada distribución "
   ]
  },
  {
   "cell_type": "code",
   "execution_count": 2,
   "metadata": {},
   "outputs": [
    {
     "name": "stdout",
     "output_type": "stream",
     "text": [
      "Ingrese cuantos numeros aleatorios desea obtener\n",
      "1000\n"
     ]
    }
   ],
   "source": [
    "print(\"Ingrese cuantos numeros aleatorios desea obtener\")\n",
    "N=int(input())\n",
    "\n",
    "x = np.zeros(N)\n",
    "x = random.standard_normal(N)"
   ]
  },
  {
   "cell_type": "markdown",
   "metadata": {},
   "source": [
    "### Distribución normal"
   ]
  },
  {
   "cell_type": "markdown",
   "metadata": {},
   "source": [
    "$P(x)=\\frac{1}{\\sqrt{2\\pi }\\sigma }e^{-\\frac{(x-\\mu )^{2}}{2\\sigma^{2} }}$"
   ]
  },
  {
   "cell_type": "code",
   "execution_count": 3,
   "metadata": {},
   "outputs": [
    {
     "data": {
      "image/png": "[encoded data removed]",
      "text/plain": [
       "<matplotlib.figure.Figure at 0x7f16f33b8a50>"
      ]
     },
     "metadata": {},
     "output_type": "display_data"
    },
    {
     "name": "stdout",
     "output_type": "stream",
     "text": [
      "('The firts and second moment are:', -0.036665850983870714, 1.0064595797819718)\n"
     ]
    }
   ],
   "source": [
    "mu = np.mean(x)\n",
    "sigma = np.std(x)\n",
    "# histograma de distribución normal.\n",
    "cuenta, cajas, ignorar = plt.hist(x, bins='auto', normed = True, facecolor='blue', edgecolor='black')\n",
    "normal = plt.plot(cajas, 1/(sigma * np.sqrt(2 * np.pi)) *\n",
    "         np.exp( - (cajas - mu)**2 / (2 * sigma**2) ),\n",
    "         linewidth=2, color='r')\n",
    "plt.title(\"Histogram\")\n",
    "plt.xlabel(\"Count\")\n",
    "plt.ylabel(\"Frequency\")\n",
    "plt.show()\n",
    "print('The firts and second moment are:',mu,sigma)"
   ]
  },
  {
   "cell_type": "markdown",
   "metadata": {},
   "source": [
    "### Distribución Binomial"
   ]
  },
  {
   "cell_type": "markdown",
   "metadata": {},
   "source": [
    "$P(x)=\\binom{n}{x}p^{x}(1-p)^{n-x}$"
   ]
  },
  {
   "cell_type": "code",
   "execution_count": 4,
   "metadata": {},
   "outputs": [
    {
     "name": "stdout",
     "output_type": "stream",
     "text": [
      "Ingrese n para la función binomial de la cual se desea hacer un histograma\n",
      "10\n",
      "Ingrese p para la función binomial de la cual se desea hacer un histograma\n",
      ".5\n"
     ]
    },
    {
     "data": {
      "image/png": "[encoded data removed]",
      "text/plain": [
       "<matplotlib.figure.Figure at 0x7f16f33a88d0>"
      ]
     },
     "metadata": {},
     "output_type": "display_data"
    },
    {
     "name": "stdout",
     "output_type": "stream",
     "text": [
      "('The firts and second moment are:', 5.0090000000000003, 2.5529190000000006)\n"
     ]
    }
   ],
   "source": [
    "print(\"Ingrese n para la función binomial de la cual se desea hacer un histograma\")\n",
    "n=float(input())\n",
    "print(\"Ingrese p para la función binomial de la cual se desea hacer un histograma\")\n",
    "p=float(input())\n",
    "x1 = np.zeros(N)\n",
    "x1 = np.random.binomial(n,p,N)\n",
    "# histograma de la distribución.\n",
    "plt.hist(x1, bins='auto', normed = True, facecolor='blue', edgecolor='black')\n",
    "plt.title(\"Histogram\")\n",
    "plt.xlabel(\"Count\")\n",
    "plt.ylabel(\"Frequency\")\n",
    "plt.show()\n",
    "mu = np.mean(x1)\n",
    "sigma = np.std(x1)\n",
    "print('The firts and second moment are:',mean(x1),var(x1))"
   ]
  },
  {
   "cell_type": "markdown",
   "metadata": {},
   "source": [
    "### Distribución de Poisson"
   ]
  },
  {
   "cell_type": "markdown",
   "metadata": {},
   "source": [
    "$P(x)=\\frac{e^{-\\lambda }\\lambda ^{x}}{x!}$"
   ]
  },
  {
   "cell_type": "code",
   "execution_count": 5,
   "metadata": {},
   "outputs": [
    {
     "name": "stdout",
     "output_type": "stream",
     "text": [
      "Ingrese lambda para la función de Poisson de la cual se desea hacer un histograma\n",
      "2\n"
     ]
    },
    {
     "data": {
      "image/png": "[encoded data removed]",
      "text/plain": [
       "<matplotlib.figure.Figure at 0x7f16f1112690>"
      ]
     },
     "metadata": {},
     "output_type": "display_data"
    },
    {
     "name": "stdout",
     "output_type": "stream",
     "text": [
      "('The firts and second moment are:', 1.9630000000000001, 2.039631)\n"
     ]
    }
   ],
   "source": [
    "print(\"Ingrese lambda para la función de Poisson de la cual se desea hacer un histograma\")\n",
    "lambd=float(input())\n",
    "x2 = np.zeros(N)\n",
    "x2 = np.random.poisson(lambd,N)\n",
    "# histograma de la distribución.\n",
    "plt.hist(x2, bins='auto', normed = True, facecolor='blue', edgecolor='black')\n",
    "plt.title(\"Histogram\")\n",
    "plt.xlabel(\"Count\")\n",
    "plt.ylabel(\"Frequency\")\n",
    "plt.show()\n",
    "mu = np.mean(x2)\n",
    "sigma = np.std(x2)\n",
    "print('The firts and second moment are:',mean(x2),var(x2))"
   ]
  },
  {
   "cell_type": "markdown",
   "metadata": {},
   "source": [
    "### Distribución Chi-square"
   ]
  },
  {
   "cell_type": "markdown",
   "metadata": {},
   "source": [
    "$P(x)=\\frac{(1/2)^{k/2}}{\\Gamma (k/2)}x^{k/2-1}e^{-x/2}$"
   ]
  },
  {
   "cell_type": "code",
   "execution_count": 6,
   "metadata": {},
   "outputs": [
    {
     "name": "stdout",
     "output_type": "stream",
     "text": [
      "Ingrese k para la función Chi-Square de la cual se desea hacer un histograma\n",
      "8\n"
     ]
    },
    {
     "data": {
      "image/png": "[encoded data removed]",
      "text/plain": [
       "<matplotlib.figure.Figure at 0x7f16f10ad450>"
      ]
     },
     "metadata": {},
     "output_type": "display_data"
    },
    {
     "name": "stdout",
     "output_type": "stream",
     "text": [
      "('The firts and second moment are:', 7.9904232654457843, 16.067262976383837)\n"
     ]
    }
   ],
   "source": [
    "print(\"Ingrese k para la función Chi-Square de la cual se desea hacer un histograma\")\n",
    "k=float(input())\n",
    "x3 = np.zeros(N)\n",
    "x3 = np.random.chisquare(k,N)\n",
    "# histograma de la distribución.\n",
    "x = np.linspace(chi2.ppf(0.01, k),chi2.ppf(0.99, k), 100)\n",
    "rv = chi2(k)\n",
    "plt.hist(x3, bins='auto', normed = True, facecolor='blue', edgecolor='black')\n",
    "plt.plot(x,rv.pdf(x),linewidth=2, color='r')\n",
    "plt.title(\"Histogram\")\n",
    "plt.xlabel(\"Count\")\n",
    "plt.ylabel(\"Frequency\")\n",
    "plt.show()\n",
    "mu = np.mean(x3)\n",
    "sigma = np.std(x3)\n",
    "print('The firts and second moment are:',mean(x3),var(x3))"
   ]
  },
  {
   "cell_type": "markdown",
   "metadata": {},
   "source": [
    "### Distribución Beta"
   ]
  },
  {
   "cell_type": "markdown",
   "metadata": {},
   "source": [
    "$P(x)=\\frac{x^{\\alpha -1}(1-x)^{\\beta -1}}{B (\\alpha ,\\beta )}$"
   ]
  },
  {
   "cell_type": "code",
   "execution_count": 7,
   "metadata": {},
   "outputs": [
    {
     "name": "stdout",
     "output_type": "stream",
     "text": [
      "Ingrese alpha para la función Beta de la cual se desea hacer un histograma\n",
      "4\n",
      "Ingrese beta para la función Beta de la cual se desea hacer un histograma\n",
      "3\n"
     ]
    },
    {
     "data": {
      "image/png": "[encoded data removed]",
      "text/plain": [
       "<matplotlib.figure.Figure at 0x7f16f0e68890>"
      ]
     },
     "metadata": {},
     "output_type": "display_data"
    },
    {
     "name": "stdout",
     "output_type": "stream",
     "text": [
      "('The firts and second moment are:', 0.56779890666447586, 0.030022162781910965)\n"
     ]
    }
   ],
   "source": [
    "print(\"Ingrese alpha para la función Beta de la cual se desea hacer un histograma\")\n",
    "a=float(input())\n",
    "print(\"Ingrese beta para la función Beta de la cual se desea hacer un histograma\")\n",
    "b=float(input())\n",
    "x4 = np.zeros(N)\n",
    "x4 = np.random.beta(a,b,N)\n",
    "# histograma de la distribución.\n",
    "x = np.linspace(beta.ppf(0.01, a,b),beta.ppf(0.99, a,b), 100)\n",
    "rv = beta(a,b)\n",
    "plt.hist(x4, bins='auto', normed = True, facecolor='blue', edgecolor='black')\n",
    "plt.plot(x,rv.pdf(x),linewidth=2, color='r')\n",
    "plt.title(\"Histogram\")\n",
    "plt.xlabel(\"Count\")\n",
    "plt.ylabel(\"Frequency\")\n",
    "plt.show()\n",
    "mu = np.mean(x4)\n",
    "sigma = np.std(x4)\n",
    "print('The firts and second moment are:',mean(x4),var(x4))"
   ]
  }
 ],
 "metadata": {
  "kernelspec": {
   "display_name": "Python 2",
   "language": "python",
   "name": "python2"
  },
  "language_info": {
   "codemirror_mode": {
    "name": "ipython",
    "version": 2
   },
   "file_extension": ".py",
   "mimetype": "text/x-python",
   "name": "python",
   "nbconvert_exporter": "python",
   "pygments_lexer": "ipython2",
   "version": "2.7.15"
  }
 },
 "nbformat": 4,
 "nbformat_minor": 2
}
