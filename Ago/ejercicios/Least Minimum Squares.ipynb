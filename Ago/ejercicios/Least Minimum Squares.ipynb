{
 "cells": [
  {
   "cell_type": "markdown",
   "metadata": {},
   "source": [
    "# Least Minimum Squares \n",
    "## Implementación del algoritmo en Python \n",
    "### José Alberto Moreno Guerra"
   ]
  },
  {
   "cell_type": "code",
   "execution_count": 1,
   "metadata": {},
   "outputs": [],
   "source": [
    "import numpy as np\n",
    "import random\n",
    "import matplotlib.pyplot as plt"
   ]
  },
  {
   "cell_type": "markdown",
   "metadata": {},
   "source": [
    "$Se$ $le$ $pide$ $al$ $usuario$ $generar$ $la$ $lista$ $de$ $números$ $aleatorios$ $que$ $seguirá$ $una$ $linea$ $recta$"
   ]
  },
  {
   "cell_type": "code",
   "execution_count": 2,
   "metadata": {},
   "outputs": [
    {
     "name": "stdout",
     "output_type": "stream",
     "text": [
      "Ingrese cuantos numeros aleatorios desea obtener\n",
      "25\n",
      "Ingrese la pendiente de la recta que desea obtener\n",
      "5.754\n",
      "Ingrese la ordenada de la recta que desea obtener\n",
      "2.63\n",
      "The residual sum is: 0.000\n",
      "The fit slope is: 5.754\n",
      "The fit intercepts is: 2.630\n"
     ]
    },
    {
     "data": {
      "image/png": "[encoded data removed]",
      "text/plain": [
       "<Figure size 432x288 with 1 Axes>"
      ]
     },
     "metadata": {},
     "output_type": "display_data"
    }
   ],
   "source": [
    "def listaAleatorios(n):\n",
    "    lista = np.zeros(n)\n",
    "    lista2 = np.zeros(n)\n",
    "    for i in range(n):\n",
    "        lista[i] = random.randint(1, 100)\n",
    "        lista2[i] = lista[i]*m+o\n",
    "    return lista, lista2\n",
    "\n",
    "print(\"Ingrese cuantos numeros aleatorios desea obtener\")\n",
    "n=int(input())\n",
    "print(\"Ingrese la pendiente de la recta que desea obtener\")\n",
    "m=float(input())\n",
    "print(\"Ingrese la ordenada de la recta que desea obtener\")\n",
    "o=float(input())\n",
    "\n",
    "aleatorios=listaAleatorios(n)\n",
    "#print(aleatorios)\n",
    "x1=aleatorios[0]\n",
    "y1=aleatorios[1]\n",
    "\n",
    "# Obtenemos la recta que mejor se le ajuste y el error asociado\n",
    "\n",
    "a, b = np.polyfit(x1, y1, 1) # Pendiente, ordenada\n",
    "ji=np.zeros(n)\n",
    "counter=np.zeros(n)\n",
    "residual=np.zeros(n)\n",
    "# Estimamos el error del ajuste \n",
    "for i in range(n):\n",
    "    ji[i]=((y1[i]-(a*x1[i]+b))*(y1[i]-(a*x1[i]+b)))/((((x1[i]-np.std(x1))**2)/x1[i])+(y1[i]-(a*x1[i]+b))**2)\n",
    "    counter[i]=i\n",
    "    residual[i]=((y1[i]-(a*x1[i]+b))**2)\n",
    "Xi=np.sum(ji)/(n-2)\n",
    "print(\"The residual sum is:\",\"{0:.3f}\".format(residual[n-1]))\n",
    "print(\"The fit slope is:\",\"{0:.3f}\".format(a))\n",
    "print(\"The fit intercepts is:\",\"{0:.3f}\".format(b))\n",
    "#Se grafica el ajuste a la curva\n",
    "plt.title(\"Gráfica\") \n",
    "plt.xlabel(\"$x$\",fontsize = 12)   # Inserta el título del eje X\n",
    "plt.ylabel(\"$f(x)$\",fontsize = 12)   # Inserta el título del eje Y\n",
    "plt.plot(x1, y1, marker='o', color='r', label = \"Datos\")\n",
    "plt.plot(x1, a * x1 + b,  label = \"Ajuste\")\n",
    "plt.legend()\n",
    "plt.show()"
   ]
  },
  {
   "cell_type": "code",
   "execution_count": null,
   "metadata": {},
   "outputs": [],
   "source": []
  }
 ],
 "metadata": {
  "kernelspec": {
   "display_name": "Python 3",
   "language": "python",
   "name": "python3"
  },
  "language_info": {
   "codemirror_mode": {
    "name": "ipython",
    "version": 3
   },
   "file_extension": ".py",
   "mimetype": "text/x-python",
   "name": "python",
   "nbconvert_exporter": "python",
   "pygments_lexer": "ipython3",
   "version": "3.6.4"
  }
 },
 "nbformat": 4,
 "nbformat_minor": 2
}
