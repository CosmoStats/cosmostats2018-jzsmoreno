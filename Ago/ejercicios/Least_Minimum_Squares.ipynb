{
 "cells": [
  {
   "cell_type": "markdown",
   "metadata": {},
   "source": [
    "# Least Minimum Squares \n",
    "## Implementación del algoritmo en Python \n",
    "### José Alberto Moreno Guerra"
   ]
  },
  {
   "cell_type": "code",
   "execution_count": 1,
   "metadata": {},
   "outputs": [],
   "source": [
    "import numpy as np\n",
    "import random\n",
    "import matplotlib.pyplot as plt"
   ]
  },
  {
   "cell_type": "markdown",
   "metadata": {},
   "source": [
    "### Se le pide al usuario generar la lista de números aleatorios que seguirá una linea recta"
   ]
  },
  {
   "cell_type": "code",
   "execution_count": 2,
   "metadata": {},
   "outputs": [
    {
     "name": "stdout",
     "output_type": "stream",
     "text": [
      "Ingrese cuantos numeros aleatorios desea obtener\n",
      "70\n",
      "Ingrese la pendiente de la recta que desea obtener\n",
      "5.473\n",
      "Ingrese la ordenada de la recta que desea obtener\n",
      "2\n",
      "('The Xi sqrt is:', '0.772')\n",
      "('The fit slope is:', '5.452')\n",
      "('The fit intercepts is:', '4.012')\n"
     ]
    },
    {
     "data": {
      "image/png": "[encoded data removed]",
      "text/plain": [
       "<matplotlib.figure.Figure at 0x7fe7a64c3f10>"
      ]
     },
     "metadata": {},
     "output_type": "display_data"
    }
   ],
   "source": [
    "def listaAleatorios(n):\n",
    "    lista = np.zeros(n)\n",
    "    lista2 = np.zeros(n)\n",
    "    for i in range(n):\n",
    "        lista[i] = random.randint(1, 100)\n",
    "        lista2[i] = (lista[i]*m+o)+(random.random()-1)*random.uniform(-100,100)\n",
    "    return lista, lista2\n",
    "\n",
    "print(\"Ingrese cuantos numeros aleatorios desea obtener\")\n",
    "n=int(input())\n",
    "print(\"Ingrese la pendiente de la recta que desea obtener\")\n",
    "m=float(input())\n",
    "print(\"Ingrese la ordenada de la recta que desea obtener\")\n",
    "o=float(input())\n",
    "\n",
    "aleatorios=listaAleatorios(n)\n",
    "#print(aleatorios)\n",
    "x1=aleatorios[0]\n",
    "y1=aleatorios[1]\n",
    "\n",
    "# Obtenemos la recta que mejor se le ajuste y el error asociado\n",
    "\n",
    "a, b = np.polyfit(x1, y1, 1) # Pendiente, ordenada\n",
    "ji=np.zeros(n)\n",
    "counter=np.zeros(n)\n",
    "residual=np.zeros(n)\n",
    "# Estimamos el error del ajuste \n",
    "for i in range(n):\n",
    "    ji[i]=((y1[i]-(a*x1[i]+b))*(y1[i]-(a*x1[i]+b)))/((((x1[i]-np.std(x1))**2)/x1[i])+(y1[i]-(a*x1[i]+b))**2)\n",
    "    counter[i]=i\n",
    "    residual[i]=((y1[i]-(a*x1[i]+b))**2)\n",
    "Xi=np.sum(ji)/(n-2)\n",
    "print(\"The Xi sqrt is:\",\"{0:.3f}\".format(Xi))\n",
    "print(\"The fit slope is:\",\"{0:.3f}\".format(a))\n",
    "print(\"The fit intercepts is:\",\"{0:.3f}\".format(b))\n",
    "#Se grafica el ajuste a la curva\n",
    "plt.title(\"Grafica\") \n",
    "plt.xlabel(\"$x$\",fontsize = 12)   # Inserta el título del eje X\n",
    "plt.ylabel(\"$f(x)$\",fontsize = 12)   # Inserta el título del eje Y\n",
    "plt.plot(x1, y1, marker='o', color='r', linestyle='', label = \"Datos\")\n",
    "plt.plot(x1, a * x1 + b,  label = \"Ajuste\")\n",
    "plt.legend()\n",
    "plt.show()"
   ]
  },
  {
   "cell_type": "markdown",
   "metadata": {},
   "source": [
    "### Nota: el valor Xi entre más cercano sea a 1, mejor es el ajuste, además si el residuo del ajuste es 0, Xi será 0 por lo que también denotará que se ha encontrado la recta de la cual provienen los datos."
   ]
  },
  {
   "cell_type": "code",
   "execution_count": null,
   "metadata": {},
   "outputs": [],
   "source": []
  }
 ],
 "metadata": {
  "kernelspec": {
   "display_name": "Python 2",
   "language": "python",
   "name": "python2"
  },
  "language_info": {
   "codemirror_mode": {
    "name": "ipython",
    "version": 2
   },
   "file_extension": ".py",
   "mimetype": "text/x-python",
   "name": "python",
   "nbconvert_exporter": "python",
   "pygments_lexer": "ipython2",
   "version": "2.7.15"
  }
 },
 "nbformat": 4,
 "nbformat_minor": 2
}
