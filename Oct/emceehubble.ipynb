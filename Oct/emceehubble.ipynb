{
 "cells": [
  {
   "cell_type": "markdown",
   "metadata": {},
   "source": [
    "# emcee hubble\n",
    "## Implementación en Python \n",
    "### José Alberto Moreno Guerra"
   ]
  },
  {
   "cell_type": "code",
   "execution_count": 1,
   "metadata": {},
   "outputs": [],
   "source": [
    "import numpy as np\n",
    "import matplotlib\n",
    "import matplotlib.pylab as plt\n",
    "import math\n",
    "\n",
    "# Choose the \"true\" parameters.\n",
    "H_true = 83.94\n",
    "om_true = 0.294\n",
    "f_true = 0.534\n",
    "\n",
    "plt.style.use('classic')"
   ]
  },
  {
   "cell_type": "code",
   "execution_count": 4,
   "metadata": {},
   "outputs": [],
   "source": [
    "# Abrimos el arch. que contiene los datos \n",
    "f1=np.loadtxt('jla_mub_covmatrix.txt',delimiter = '\\t',skiprows=0,usecols=[0,0]) \n",
    "f2=np.loadtxt('jla_mub.txt',delimiter = '\\t',skiprows=0,usecols=[0,1]) \n",
    "covmatrix=f1[:,0]\n",
    "z=f2[:,0]\n",
    "mud=f2[:,1]\n",
    "n=np.size(covmatrix) # Contabilizamos el número de datos que tenemos"
   ]
  },
  {
   "cell_type": "code",
   "execution_count": 5,
   "metadata": {},
   "outputs": [],
   "source": [
    "cov=np.ones((31, 31))\n",
    "m=0\n",
    "for i in range(31):\n",
    "    for j in range(31):\n",
    "        cov[i][j]=covmatrix[m]\n",
    "        m=m+1\n",
    "var=np.diag(cov)"
   ]
  },
  {
   "cell_type": "code",
   "execution_count": 6,
   "metadata": {},
   "outputs": [],
   "source": [
    "def eta(a,om):\n",
    "    s3=(1.-om)/om\n",
    "    s2=s3**(2./3)\n",
    "    s=s3**(1./3)\n",
    "    coef=[0.1540,0.4304,0.19097,0.066941]\n",
    "    return 2.*np.sqrt(s3+1.)*((1./a**4)-coef[0]*s*(1./a**3)+coef[1]*s2*(1./a**2)+coef[2]*s3*(1./a)+coef[3]*(s**4))**(-1./8)\n",
    "# Definición del likelihood"
   ]
  },
  {
   "cell_type": "markdown",
   "metadata": {},
   "source": [
    "### Maximum Likelihood estimation "
   ]
  },
  {
   "cell_type": "markdown",
   "metadata": {},
   "source": [
    "$-Ln(\\mathfrak{L}(\\vec{x},\\vec{y}\\mid \\vec{\\theta }))\\propto \\frac{1}{2}\\sum_{i}^{n}\\left ( \\frac{y_{i}-\\lambda (x_{i},\\vec{\\theta })}{\\sigma_{i}} \\right )^{2}$"
   ]
  },
  {
   "cell_type": "code",
   "execution_count": 7,
   "metadata": {},
   "outputs": [],
   "source": [
    "pi=np.arccos(-1) # Pi\n",
    "def lnlike(theta, z, y, var):\n",
    "    H, om, lnf = theta\n",
    "    c=299792.0 # velocidad de la luz en km/s\n",
    "    a=1./(1+z)\n",
    "    D =(c/H)*(1./a)*(eta(1.,om)-eta(a,om))\n",
    "    model = 25.-5.*np.log10(H/100.0)+5.*np.log10(D)\n",
    "    inv_sigma2 = 1.0/(var + model**2*np.exp(2*lnf))\n",
    "    return -0.5*(np.sum((y-model)**2*inv_sigma2 - np.log(inv_sigma2)))"
   ]
  },
  {
   "cell_type": "code",
   "execution_count": 8,
   "metadata": {},
   "outputs": [],
   "source": [
    "import scipy.optimize as op\n",
    "nll = lambda *args: -lnlike(*args)\n",
    "bnds= ((74.0,84.0),(0.1,0.3),(0.0,1.0))\n",
    "result= op.minimize(nll,[75, .05, 0.0], args=(z, mud, var), bounds=bnds)\n",
    "H_ml, om_ml, lnf_ml = result[\"x\"]"
   ]
  },
  {
   "cell_type": "code",
   "execution_count": 9,
   "metadata": {},
   "outputs": [
    {
     "name": "stdout",
     "output_type": "stream",
     "text": [
      "(84.0, 0.29999999999999999, 0.0)\n"
     ]
    }
   ],
   "source": [
    "print(H_ml, om_ml, lnf_ml)"
   ]
  },
  {
   "cell_type": "code",
   "execution_count": 10,
   "metadata": {},
   "outputs": [],
   "source": [
    "def sup(H,om,z):\n",
    "    c=299792.0 # velocidad de la luz en km/s\n",
    "    a=1./(1+z)\n",
    "    D =(c/H)*(1./a)*(eta(1.,om)-eta(a,om))\n",
    "    y = 25.-5.*np.log10(H/100.0)+5.*np.log10(D)\n",
    "    return y"
   ]
  },
  {
   "cell_type": "code",
   "execution_count": 11,
   "metadata": {},
   "outputs": [
    {
     "data": {
      "image/png": "[encoded data removed]",
      "text/plain": [
       "<matplotlib.figure.Figure at 0x7ff89dd77510>"
      ]
     },
     "metadata": {},
     "output_type": "display_data"
    }
   ],
   "source": [
    "plt.figure(figsize=(10,5))\n",
    "plt.plot(z,mud,'bo')\n",
    "y1 = sup(H_true,om_true,z)\n",
    "plt.plot(z,y1,'ko')\n",
    "y2= sup(H_ml,om_ml,z)\n",
    "plt.plot(z,y1,'r--')\n",
    "plt.plot(z,y2,'go')\n",
    "plt.xlabel('$Z$',fontsize = 20)\n",
    "plt.ylabel('$\\mu$',fontsize = 20)\n",
    "plt.show()"
   ]
  },
  {
   "cell_type": "markdown",
   "metadata": {},
   "source": [
    "### Marginalization & uncertainty estimation "
   ]
  },
  {
   "cell_type": "markdown",
   "metadata": {},
   "source": [
    "$p(m,b,f\\mid x,y,\\sigma )\\propto p(m,b,f)p(y\\mid x,\\sigma ,m,b,f)$"
   ]
  },
  {
   "cell_type": "code",
   "execution_count": null,
   "metadata": {},
   "outputs": [],
   "source": [
    "def lnprior(theta):\n",
    "    H, om, lnf = theta\n",
    "    if 50.0 < H < 100.0 and 0.0 < om < 1.0 and -10.0 < lnf < 1.0:\n",
    "        return 0.0\n",
    "    return np.inf\n",
    "    #return 0.0"
   ]
  },
  {
   "cell_type": "code",
   "execution_count": null,
   "metadata": {},
   "outputs": [],
   "source": [
    "def lnprob(theta, z, y, var):\n",
    "    lp = lnprior(theta)\n",
    "    if not np.isfinite(lp):\n",
    "        return -np.inf\n",
    "    return lp + lnlike(theta, z, y, var)"
   ]
  },
  {
   "cell_type": "code",
   "execution_count": null,
   "metadata": {},
   "outputs": [],
   "source": [
    "ndim, nwalkers = 3, 100\n",
    "pos = [result[\"x\"] + 1e-4*np.random.randn(ndim) for i in range(nwalkers)]"
   ]
  },
  {
   "cell_type": "code",
   "execution_count": null,
   "metadata": {},
   "outputs": [],
   "source": [
    "import emcee\n",
    "sampler = emcee.EnsembleSampler(nwalkers, ndim, lnprob, args=(z, mud, var))"
   ]
  },
  {
   "cell_type": "code",
   "execution_count": null,
   "metadata": {},
   "outputs": [],
   "source": [
    "sampler.run_mcmc(pos, 500)\n",
    "print()"
   ]
  },
  {
   "cell_type": "code",
   "execution_count": null,
   "metadata": {},
   "outputs": [],
   "source": [
    "x1 = np.linspace(0.0, 500, 500)\n",
    "plt.figure(figsize=(5,10))\n",
    "for i in range(100):\n",
    "    plt.subplot(3, 1, 1)\n",
    "    plt.plot(x1, sampler.chain[i,:,0], '-')\n",
    "    plt.plot(x1, H_true*np.ones(500), '-')\n",
    "    plt.ylabel('$H$',fontsize = 20)\n",
    "\n",
    "    plt.subplot(3, 1, 2)\n",
    "    plt.plot(x1, sampler.chain[i,:,1], '-')\n",
    "    plt.plot(x1, om_true*np.ones(500), '-')\n",
    "    plt.ylabel('$\\Omega_{m}$',fontsize = 20)\n",
    "\n",
    "    plt.subplot(3, 1, 3)\n",
    "    plt.plot(x1, np.exp(sampler.chain[i,:,2]), '-')\n",
    "    plt.plot(x1, f_true*np.ones(500), '-')\n",
    "    plt.xlabel('$stepnumber$',fontsize = 20)\n",
    "    plt.ylabel('$f$',fontsize = 20)\n",
    "plt.show()"
   ]
  },
  {
   "cell_type": "code",
   "execution_count": null,
   "metadata": {},
   "outputs": [],
   "source": [
    "samples = sampler.chain[:, 300:, :].reshape((-1, ndim))"
   ]
  },
  {
   "cell_type": "code",
   "execution_count": null,
   "metadata": {},
   "outputs": [],
   "source": [
    "import corner\n",
    "fig = corner.corner(samples, labels=[\"$H$\", \"$\\Omega_{m}$\", \"$\\ln\\,f$\"],\n",
    "                      truths=[H_true, om_true, np.log(f_true)])\n",
    "fig.savefig(\"hubble.png\")"
   ]
  },
  {
   "cell_type": "code",
   "execution_count": null,
   "metadata": {},
   "outputs": [],
   "source": [
    "plt.figure(figsize=(10,5))\n",
    "xl = np.array([0, 10])\n",
    "for H, om, lnf in samples[np.random.randint(len(samples), size=100)]:\n",
    "    plt.plot(z, sup(H,om,z), color=\"k\", alpha=0.1)\n",
    "plt.plot(z, sup(H_true,om_true,z), color=\"r\", lw=2, alpha=0.8)\n",
    "plt.plot(z,mud,'bo')\n",
    "plt.xlabel('$Z$',fontsize = 20)\n",
    "plt.ylabel('$\\mu$',fontsize = 20)\n",
    "plt.show()"
   ]
  }
 ],
 "metadata": {
  "kernelspec": {
   "display_name": "Python 2",
   "language": "python",
   "name": "python2"
  },
  "language_info": {
   "codemirror_mode": {
    "name": "ipython",
    "version": 2
   },
   "file_extension": ".py",
   "mimetype": "text/x-python",
   "name": "python",
   "nbconvert_exporter": "python",
   "pygments_lexer": "ipython2",
   "version": "2.7.15"
  }
 },
 "nbformat": 4,
 "nbformat_minor": 2
}
