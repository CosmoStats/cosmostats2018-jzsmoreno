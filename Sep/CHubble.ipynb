{
 "cells": [
  {
   "cell_type": "markdown",
   "metadata": {},
   "source": [
    "# Obtención de la constante de Hubble\n",
    "## Implementación en Python \n",
    "### José Alberto Moreno Guerra"
   ]
  },
  {
   "cell_type": "code",
   "execution_count": 1,
   "metadata": {},
   "outputs": [
    {
     "name": "stdout",
     "output_type": "stream",
     "text": [
      "Populating the interactive namespace from numpy and matplotlib\n"
     ]
    }
   ],
   "source": [
    "%pylab inline\n",
    "import numpy as np\n",
    "import matplotlib.pylab as plt\n",
    "import scipy.stats as st\n",
    "import math"
   ]
  },
  {
   "cell_type": "code",
   "execution_count": 2,
   "metadata": {},
   "outputs": [],
   "source": [
    "# Abrimos el arch. que contiene los datos \n",
    "f1=np.loadtxt('jla_mub_covmatrix.txt',delimiter = '\\t',skiprows=0,usecols=[0,0]) \n",
    "f2=np.loadtxt('jla_mub.txt',delimiter = '\\t',skiprows=0,usecols=[0,1]) \n",
    "covmatrix=f1[:,0]\n",
    "z=f2[:,0]\n",
    "mud=f2[:,1]\n",
    "n=np.size(covmatrix) # Contabilizamos el número de datos que tenemos"
   ]
  },
  {
   "cell_type": "code",
   "execution_count": 4,
   "metadata": {},
   "outputs": [
    {
     "name": "stdout",
     "output_type": "stream",
     "text": [
      "961\n"
     ]
    }
   ],
   "source": [
    "cov=np.ones((31, 31))\n",
    "for i in range(31):\n",
    "    for j in range(31):\n",
    "        cov[i][j]=covmatrix[i]\n",
    "print(n)"
   ]
  },
  {
   "cell_type": "code",
   "execution_count": 5,
   "metadata": {},
   "outputs": [],
   "source": [
    "var=np.zeros(31)\n",
    "for i in range(31):\n",
    "    var[i]=cov[i][i]"
   ]
  },
  {
   "cell_type": "markdown",
   "metadata": {},
   "source": [
    "### Haciendo uso del logaritmo de la función maximizada de Likehood"
   ]
  },
  {
   "cell_type": "markdown",
   "metadata": {},
   "source": [
    "$-Ln(\\mathfrak{L}(\\vec{x},\\vec{y}\\mid \\vec{\\theta }))\\propto \\frac{1}{2}\\sum_{i}^{n}\\left ( \\frac{y_{i}-\\lambda (x_{i},\\vec{\\theta })}{\\sigma_{i}^{2}} \\right )$"
   ]
  },
  {
   "cell_type": "code",
   "execution_count": 6,
   "metadata": {},
   "outputs": [],
   "source": [
    "def likehood(y,var,x):\n",
    "    n=np.size(var)\n",
    "    for i in range(n):\n",
    "        arg=arg+(y[i]-x)/var[i]\n",
    "    lhood=1/2*arg\n",
    "    return lhood"
   ]
  },
  {
   "cell_type": "code",
   "execution_count": null,
   "metadata": {},
   "outputs": [],
   "source": []
  }
 ],
 "metadata": {
  "kernelspec": {
   "display_name": "Python 2",
   "language": "python",
   "name": "python2"
  },
  "language_info": {
   "codemirror_mode": {
    "name": "ipython",
    "version": 2
   },
   "file_extension": ".py",
   "mimetype": "text/x-python",
   "name": "python",
   "nbconvert_exporter": "python",
   "pygments_lexer": "ipython2",
   "version": "2.7.15"
  }
 },
 "nbformat": 4,
 "nbformat_minor": 2
}
