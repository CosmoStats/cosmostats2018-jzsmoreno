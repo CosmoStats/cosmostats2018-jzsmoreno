{
 "cells": [
  {
   "cell_type": "markdown",
   "metadata": {},
   "source": [
    "# Obtención de la constante de Hubble\n",
    "## Implementación en Python \n",
    "### José Alberto Moreno Guerra"
   ]
  },
  {
   "cell_type": "code",
   "execution_count": 1,
   "metadata": {},
   "outputs": [
    {
     "name": "stdout",
     "output_type": "stream",
     "text": [
      "Populating the interactive namespace from numpy and matplotlib\n"
     ]
    }
   ],
   "source": [
    "%pylab inline\n",
    "import numpy as np\n",
    "import matplotlib.pylab as plt\n",
    "import scipy.stats as st\n",
    "import math\n",
    "import random\n",
    "plt.style.use('classic')"
   ]
  },
  {
   "cell_type": "code",
   "execution_count": 2,
   "metadata": {},
   "outputs": [
    {
     "data": {
      "image/png": "[encoded data removed]",
      "text/plain": [
       "<matplotlib.figure.Figure at 0x7f2147e9b810>"
      ]
     },
     "metadata": {},
     "output_type": "display_data"
    }
   ],
   "source": [
    "# Abrimos el arch. que contiene los datos \n",
    "f1=np.loadtxt('jla_mub_covmatrix.txt',delimiter = '\\t',skiprows=0,usecols=[0,0]) \n",
    "f2=np.loadtxt('jla_mub.txt',delimiter = '\\t',skiprows=0,usecols=[0,1]) \n",
    "covmatrix=f1[:,0]\n",
    "z=f2[:,0]\n",
    "mud=f2[:,1]\n",
    "n=np.size(covmatrix) # Contabilizamos el número de datos que tenemos\n",
    "plt.plot(z,mud,'bo', linestyle='-')\n",
    "plt.xlabel(\"$Z$\")\n",
    "plt.ylabel(\"$\\mu$\")\n",
    "plt.show()"
   ]
  },
  {
   "cell_type": "code",
   "execution_count": 3,
   "metadata": {},
   "outputs": [
    {
     "name": "stdout",
     "output_type": "stream",
     "text": [
      "961\n"
     ]
    }
   ],
   "source": [
    "cov=np.ones((31, 31))\n",
    "for i in range(31):\n",
    "    for j in range(31):\n",
    "        cov[i][j]=covmatrix[i]\n",
    "print(n)"
   ]
  },
  {
   "cell_type": "code",
   "execution_count": 4,
   "metadata": {},
   "outputs": [],
   "source": [
    "var=np.zeros(31)\n",
    "for i in range(31):\n",
    "    var[i]=cov[i][i]"
   ]
  },
  {
   "cell_type": "markdown",
   "metadata": {},
   "source": [
    "### Haciendo uso del logaritmo de la función maximizada de Likelihood"
   ]
  },
  {
   "cell_type": "markdown",
   "metadata": {},
   "source": [
    "$-Ln(\\mathfrak{L}(\\vec{x},\\vec{y}\\mid \\vec{\\theta }))\\propto \\frac{1}{2}\\sum_{i}^{n}\\left ( \\frac{y_{i}-\\lambda (x_{i},\\vec{\\theta })}{\\sigma_{i}^{2}} \\right )$"
   ]
  },
  {
   "cell_type": "code",
   "execution_count": 5,
   "metadata": {},
   "outputs": [],
   "source": [
    "def likelihood(H,om,z,y,var):\n",
    "    n=np.size(var)\n",
    "    c=3*10**8\n",
    "    s3=(1.0-om)/om\n",
    "    global arg\n",
    "    arg=0.0\n",
    "    lhood=np.zeros(n)\n",
    "    for i in range(n):\n",
    "        a=1/(1+z[i])\n",
    "        eta1=(2.0*math.sqrt(s3+1)*((1**-4)-0.1540*(s3**1/3)*(1**-3)+0.4304*(s3**2/3)+0.19097*s3*1**-1+0.066941*(s3**4/3)))**(-1/8)\n",
    "        eta2=(2.0*math.sqrt(s3+1)*((a**-4)-0.1540*(s3**1/3)*(a**-3)+0.4304*(s3**2/3)+0.19097*s3*a**-1+0.066941*(s3**4/3)))**(-1/8)\n",
    "        D=(c/H)*(1+z[i])*(eta1-eta2)\n",
    "        x= 25-5*math.log10(H/100.0)+5*math.log10(D)\n",
    "        arg=arg+(y[i]-x)/(var[i])**2\n",
    "        lhood[i]=arg/2.0\n",
    "    return lhood[n-1]"
   ]
  },
  {
   "cell_type": "code",
   "execution_count": 6,
   "metadata": {},
   "outputs": [
    {
     "name": "stdout",
     "output_type": "stream",
     "text": [
      "Ingrese el número máx. de iteraciones\n",
      "10000\n",
      "('Interaciones:', 9999)\n",
      "('Las soluciones son:', 77.01058576613829, 0.13005006668350894)\n"
     ]
    },
    {
     "data": {
      "image/png": "[encoded data removed]",
      "text/plain": [
       "<matplotlib.figure.Figure at 0x7f2145d0fd10>"
      ]
     },
     "metadata": {},
     "output_type": "display_data"
    }
   ],
   "source": [
    "# Vectores iniciales del método iterativo\n",
    "H0=random.uniform(1,100)\n",
    "om0=random.uniform(1,10)/10.0\n",
    "H1=random.uniform(41,100)\n",
    "om1=random.uniform(1,10)/10.0\n",
    "print(\"Ingrese el número máx. de iteraciones\")\n",
    "m=int(input())\n",
    "sol1=np.zeros(m)\n",
    "sol2=np.zeros(m)\n",
    "pasos=np.zeros(m)\n",
    "y0 = likelihood(H0,om0,z,mud,var)\n",
    "y1 = likelihood(H1,om1,z,mud,var)\n",
    "sol1[0]=H1\n",
    "sol2[0]=om1\n",
    "for i in range(1,m):\n",
    "    pasos[i]=i\n",
    "    err=abs(math.log10(abs(y1))-math.log10(abs(y0)))\n",
    "    if(math.log10(abs(y1))<math.log10(abs(y0))):\n",
    "        H0=H1\n",
    "        om0=om1\n",
    "        y0=likelihood(H0,om0,z,mud,var)\n",
    "        sol1[i]=H0\n",
    "        sol2[i]=om0\n",
    "        H1=random.uniform(1,100)\n",
    "        om1=random.uniform(1,10)/10.0\n",
    "        y1 = likelihood(H1,om1,z,mud,var)\n",
    "        if(err<1*10**-6):\n",
    "            print('Las soluciones son:',H1,om1)\n",
    "            plt.plot(sol1,sol2,'bo')\n",
    "            plt.title(\"Constante de Hubble\")\n",
    "            plt.xlabel(\"$H_{o}$\")\n",
    "            plt.ylabel(\"$\\Omega_{m}$\")\n",
    "            plt.autoscale()\n",
    "            plt.show()\n",
    "            break\n",
    "        else:\n",
    "            H1=random.uniform(1,100)\n",
    "            om1=random.uniform(1,10)/10.0\n",
    "            y1 = likelihood(H1,om1,z,mud,var)\n",
    "    else:\n",
    "        if(err<1*10**-6):\n",
    "            print('Las soluciones son:',H1,om1)\n",
    "            plt.plot(sol1,sol2,'bo')\n",
    "            plt.title(\"Constante de Hubble\")\n",
    "            plt.xlabel(\"$H_{o}$\")\n",
    "            plt.ylabel(\"$\\Omega_{m}$\")\n",
    "            plt.autoscale()\n",
    "            plt.show()\n",
    "            break\n",
    "        else:\n",
    "            H1=random.uniform(1,100)\n",
    "            om1=random.uniform(1,10)/10.0\n",
    "            y1 = likelihood(H1,om1,z,mud,var)\n",
    "    if(i>(m-2)):\n",
    "        print('Interaciones:',i)\n",
    "        print('Las soluciones son:',H0,om0)\n",
    "        plt.plot(sol1,sol2,'bo')\n",
    "        plt.title(\"Constante de Hubble\")\n",
    "        plt.xlabel(\"$H_{o}$\")\n",
    "        plt.ylabel(\"$\\Omega_{m}$\")\n",
    "        plt.autoscale()\n",
    "        plt.show()\n",
    "        break"
   ]
  },
  {
   "cell_type": "code",
   "execution_count": null,
   "metadata": {},
   "outputs": [],
   "source": []
  }
 ],
 "metadata": {
  "kernelspec": {
   "display_name": "Python 2",
   "language": "python",
   "name": "python2"
  },
  "language_info": {
   "codemirror_mode": {
    "name": "ipython",
    "version": 2
   },
   "file_extension": ".py",
   "mimetype": "text/x-python",
   "name": "python",
   "nbconvert_exporter": "python",
   "pygments_lexer": "ipython2",
   "version": "2.7.15"
  }
 },
 "nbformat": 4,
 "nbformat_minor": 2
}
