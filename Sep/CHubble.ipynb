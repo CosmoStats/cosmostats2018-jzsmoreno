{
 "cells": [
  {
   "cell_type": "markdown",
   "metadata": {},
   "source": [
    "# Obtención de la constante de Hubble\n",
    "## Implementación en Python \n",
    "### José Alberto Moreno Guerra"
   ]
  },
  {
   "cell_type": "code",
   "execution_count": 1,
   "metadata": {},
   "outputs": [
    {
     "name": "stdout",
     "output_type": "stream",
     "text": [
      "Populating the interactive namespace from numpy and matplotlib\n"
     ]
    }
   ],
   "source": [
    "%pylab inline\n",
    "import numpy as np\n",
    "import matplotlib.pylab as plt\n",
    "import scipy.stats as st\n",
    "import math\n",
    "import random\n",
    "from scipy.optimize import fmin\n",
    "plt.style.use('classic')"
   ]
  },
  {
   "cell_type": "code",
   "execution_count": 2,
   "metadata": {},
   "outputs": [
    {
     "data": {
      "image/png": "[encoded data removed]",
      "text/plain": [
       "<matplotlib.figure.Figure at 0x7f8712345790>"
      ]
     },
     "metadata": {},
     "output_type": "display_data"
    }
   ],
   "source": [
    "# Abrimos el arch. que contiene los datos \n",
    "f1=np.loadtxt('jla_mub_covmatrix.txt',delimiter = '\\t',skiprows=0,usecols=[0,0]) \n",
    "f2=np.loadtxt('jla_mub.txt',delimiter = '\\t',skiprows=0,usecols=[0,1]) \n",
    "covmatrix=f1[:,0]\n",
    "z=f2[:,0]\n",
    "mud=f2[:,1]\n",
    "n=np.size(covmatrix) # Contabilizamos el número de datos que tenemos\n",
    "plt.plot(z,mud,'bo', linestyle='-')\n",
    "plt.xlabel(\"$Z$\")\n",
    "plt.ylabel(\"$\\mu$\")\n",
    "plt.show()"
   ]
  },
  {
   "cell_type": "code",
   "execution_count": 3,
   "metadata": {},
   "outputs": [],
   "source": [
    "cov=np.ones((31, 31))\n",
    "m=0\n",
    "for i in range(31):\n",
    "    for j in range(31):\n",
    "        cov[i][j]=covmatrix[m]\n",
    "        m=m+1\n",
    "var=np.diag(cov)"
   ]
  },
  {
   "cell_type": "code",
   "execution_count": 4,
   "metadata": {},
   "outputs": [
    {
     "name": "stdout",
     "output_type": "stream",
     "text": [
      "38.7628225466\n"
     ]
    }
   ],
   "source": [
    "print(np.mean(mud))"
   ]
  },
  {
   "cell_type": "markdown",
   "metadata": {},
   "source": [
    "### Haciendo uso del logaritmo de la función maximizada de Likelihood"
   ]
  },
  {
   "cell_type": "markdown",
   "metadata": {},
   "source": [
    "$-Ln(\\mathfrak{L}(\\vec{x},\\vec{y}\\mid \\vec{\\theta }))\\propto \\frac{1}{2}\\sum_{i}^{n}\\left ( \\frac{y_{i}-\\lambda (x_{i},\\vec{\\theta })}{\\sigma_{i}} \\right )^{2}$"
   ]
  },
  {
   "cell_type": "code",
   "execution_count": 5,
   "metadata": {},
   "outputs": [],
   "source": [
    "# Prueba de la variable de materia\n",
    "def test(om1):\n",
    "    test2=1\n",
    "    while(test2):\n",
    "        if(om1<0):\n",
    "            om1=np.random.normal(om0,sig)\n",
    "            if(om1>1):\n",
    "                om1=om0\n",
    "        else:\n",
    "            if(om1>1):\n",
    "                om1=om0\n",
    "            else:\n",
    "                test2=0\n",
    "    return(om1)\n",
    "\n",
    "def eta(a,om):\n",
    "    test(om)\n",
    "    s3=(1.0-om)/om\n",
    "    s2=s3**(2./3)\n",
    "    s=s3**(1./3)\n",
    "    return (2.0*np.sqrt(s3+1)*((1./a**4)-0.1540*s*(1./a**3)+0.4304*s2+0.19097*s3*(1./a)+0.066941*(s**4)))**(-1/8)\n",
    "# Definición del likelihood\n",
    "def likelihood(H,om,z,y,var):\n",
    "    n=np.size(var)\n",
    "    c=2.8**3\n",
    "    arg=0\n",
    "    for i in range(n):\n",
    "        a=1./(1+z[i])\n",
    "        D=(c/H)*(1./a)*(eta(1.,om)-eta(a,om))\n",
    "        x= 25-5*np.log10(H/100.0)+5*np.log10(D)\n",
    "        arg=arg+(((y[i]-x)**2)/(var[i]))\n",
    "    lhood=arg/2.\n",
    "    return lhood"
   ]
  },
  {
   "cell_type": "code",
   "execution_count": 6,
   "metadata": {},
   "outputs": [
    {
     "name": "stdout",
     "output_type": "stream",
     "text": [
      "Optimization terminated successfully.\n",
      "         Current function value: 333.738661\n",
      "         Iterations: 18\n",
      "         Function evaluations: 36\n",
      "[ 0.31804688]\n"
     ]
    },
    {
     "data": {
      "text/plain": [
       "[<matplotlib.lines.Line2D at 0x7f874bed6dd0>]"
      ]
     },
     "execution_count": 6,
     "metadata": {},
     "output_type": "execute_result"
    },
    {
     "data": {
      "image/png": "[encoded data removed]",
      "text/plain": [
       "<matplotlib.figure.Figure at 0x7f874beb7c50>"
      ]
     },
     "metadata": {},
     "output_type": "display_data"
    }
   ],
   "source": [
    "num=1000\n",
    "x=np.linspace(0.1,1,num)\n",
    "y=np.zeros(num)\n",
    "y2=likelihood(2*np.mean(mud),.3,z,mud,var)\n",
    "x2=2*np.mean(mud)\n",
    "robj = lambda x: likelihood(x,.3,z,mud,var)\n",
    "for i in range(num):\n",
    "    y[i]=likelihood(x[i],.3,z,mud,var)\n",
    "x0 = .1\n",
    "xmin0 = fmin(robj,x0)\n",
    "print(xmin0)\n",
    "plt.plot(x,y)\n",
    "plt.plot(xmin0,likelihood(xmin0,.3,z,mud,var),'ro')"
   ]
  },
  {
   "cell_type": "code",
   "execution_count": 7,
   "metadata": {},
   "outputs": [],
   "source": [
    "# Algoritmo del likelihood más óptimo\n",
    "def mcp(y1,y0,H1,om1,H0,om0):\n",
    "    ratio=y0/y1\n",
    "    if(y1<y0):\n",
    "        H0=H1\n",
    "        om0=om1\n",
    "    else:\n",
    "        err = np.exp(-ratio)\n",
    "        prob= random.randint(0,1)\n",
    "        if(err>prob):\n",
    "            H0=H1\n",
    "            om0=om1\n",
    "    global v\n",
    "    v=np.array([H0,om0])\n",
    "    return v"
   ]
  },
  {
   "cell_type": "code",
   "execution_count": 12,
   "metadata": {},
   "outputs": [
    {
     "name": "stdout",
     "output_type": "stream",
     "text": [
      "Ingrese el número máx. de iteraciones\n",
      "5000\n"
     ]
    }
   ],
   "source": [
    "# Vectores iniciales del método iterativo\n",
    "H0=0.087\n",
    "om0=0.15\n",
    "# Parámetros iniciales de convergencia\n",
    "random.seed(1)\n",
    "sigma=.001\n",
    "sig=.001\n",
    "print(\"Ingrese el número máx. de iteraciones\")\n",
    "m=int(input())\n",
    "sol1=np.zeros(m)\n",
    "sol2=np.zeros(m)\n",
    "pasos=np.zeros(m)\n",
    "v=np.array([H0,om0])\n",
    "\n",
    "for i in range(m):\n",
    "    pasos[i]=i\n",
    "    #print(v[0])\n",
    "    H1=np.random.normal(v[0],sigma)\n",
    "    om1=np.random.normal(v[1],sig)\n",
    "    om1=test(om1)\n",
    "    y0 = likelihood(v[0],v[1],z,mud,var)\n",
    "    y1 = likelihood(H1,om1,z,mud,var)\n",
    "    mcp(y1,y0,H1,om1,v[0],v[1])\n",
    "    sol1[i]=v[0]\n",
    "    sol2[i]=v[1]\n",
    "#print('Las soluciones son:',v[0]*400,v[1]*2.)"
   ]
  },
  {
   "cell_type": "code",
   "execution_count": 14,
   "metadata": {},
   "outputs": [
    {
     "data": {
      "image/png": "[encoded data removed]",
      "text/plain": [
       "<matplotlib.figure.Figure at 0x7f870ff8b250>"
      ]
     },
     "metadata": {},
     "output_type": "display_data"
    }
   ],
   "source": [
    "plt.plot(sol1*400,sol2*2.,'.')\n",
    "plt.title(\"Constante de Hubble\")\n",
    "plt.xlabel(\"$H_{o}$\")\n",
    "plt.ylabel(\"$\\Omega_{m}$\")\n",
    "plt.xlim(20,85)\n",
    "plt.ylim(.1,.4)\n",
    "#plt.autoscale()\n",
    "plt.show()"
   ]
  }
 ],
 "metadata": {
  "kernelspec": {
   "display_name": "Python 2",
   "language": "python",
   "name": "python2"
  },
  "language_info": {
   "codemirror_mode": {
    "name": "ipython",
    "version": 2
   },
   "file_extension": ".py",
   "mimetype": "text/x-python",
   "name": "python",
   "nbconvert_exporter": "python",
   "pygments_lexer": "ipython2",
   "version": "2.7.15"
  }
 },
 "nbformat": 4,
 "nbformat_minor": 2
}
