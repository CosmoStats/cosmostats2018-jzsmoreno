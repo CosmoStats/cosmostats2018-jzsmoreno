{
 "cells": [
  {
   "cell_type": "markdown",
   "metadata": {},
   "source": [
    "## Método de Interpolación a partir de la función acumulada \n",
    "## Implementación en Python \n",
    "### José Alberto Moreno Guerra"
   ]
  },
  {
   "cell_type": "code",
   "execution_count": 1,
   "metadata": {},
   "outputs": [
    {
     "name": "stdout",
     "output_type": "stream",
     "text": [
      "Populating the interactive namespace from numpy and matplotlib\n"
     ]
    }
   ],
   "source": [
    "%pylab inline\n",
    "import numpy as np\n",
    "import math\n",
    "import pickle\n",
    "import os\n",
    "import scipy, scipy.signal\n",
    "from matplotlib import pyplot\n",
    "import scipy.stats as st\n",
    "import statsmodels.api as sm\n",
    "from scipy.optimize import curve_fit\n",
    "from scipy.optimize import least_squares\n",
    "from scipy.optimize import fsolve\n",
    "from scipy import integrate\n",
    "from sympy import *\n",
    "import random\n",
    "plt.style.use('classic')"
   ]
  },
  {
   "cell_type": "markdown",
   "metadata": {},
   "source": [
    "### Se genera un conjunto de datos que siguen una distribución gaussiana aleatoria"
   ]
  },
  {
   "cell_type": "markdown",
   "metadata": {},
   "source": [
    "$$P(x)=\\frac{1}{\\sqrt{2\\pi }\\sigma }e^{-\\frac{x^{2}}{2\\sigma^{2} }}$$"
   ]
  },
  {
   "cell_type": "code",
   "execution_count": 2,
   "metadata": {},
   "outputs": [
    {
     "name": "stdout",
     "output_type": "stream",
     "text": [
      "Ingrese cuantos numeros aleatorios desea obtener\n",
      "1000\n"
     ]
    },
    {
     "data": {
      "image/png": "[encoded data removed]",
      "text/plain": [
       "<matplotlib.figure.Figure at 0x7f3257a075d0>"
      ]
     },
     "metadata": {},
     "output_type": "display_data"
    }
   ],
   "source": [
    "print(\"Ingrese cuantos numeros aleatorios desea obtener\")\n",
    "N=int(input())\n",
    "mu=random.uniform(0,10.0)\n",
    "sigma=random.uniform(0.0,5.0)\n",
    "x = np.random.normal(mu, sigma, N)\n",
    "plt.hist(x, bins='auto', normed = True, facecolor='blue', edgecolor='black')\n",
    "plt.show()"
   ]
  },
  {
   "cell_type": "code",
   "execution_count": 3,
   "metadata": {},
   "outputs": [],
   "source": [
    "def fcum(x):\n",
    "    global ox\n",
    "    ox = sort(x)\n",
    "    I=np.ones(np.size(ox))\n",
    "    M=np.triu(I)\n",
    "    fc=np.dot(ox,M)\n",
    "    global fcc\n",
    "    fcc = fc/np.max(fc)\n",
    "    #plt.plot(ox,fcc)\n",
    "    global r \n",
    "    r = fcc, ox"
   ]
  },
  {
   "cell_type": "markdown",
   "metadata": {},
   "source": [
    "### Se calcula la función de distribución acumulada"
   ]
  },
  {
   "cell_type": "markdown",
   "metadata": {},
   "source": [
    "$F(x)=\\int_{-\\infty }^{x}f(x')dx'$"
   ]
  },
  {
   "cell_type": "code",
   "execution_count": 4,
   "metadata": {},
   "outputs": [
    {
     "data": {
      "image/png": "[encoded data removed]",
      "text/plain": [
       "<matplotlib.figure.Figure at 0x7f329e4be310>"
      ]
     },
     "metadata": {},
     "output_type": "display_data"
    }
   ],
   "source": [
    "fcum(x)\n",
    "plt.plot(ox,fcc, linewidth=2)\n",
    "plt.show()"
   ]
  },
  {
   "cell_type": "markdown",
   "metadata": {},
   "source": [
    "### Se ajusta una función polinomial diferenciable "
   ]
  },
  {
   "cell_type": "markdown",
   "metadata": {},
   "source": [
    "$F(x)=a_{o}+a_{1}x+a_{2}x^{2}+...+a_{n}x^{n}$"
   ]
  },
  {
   "cell_type": "code",
   "execution_count": 5,
   "metadata": {},
   "outputs": [],
   "source": [
    "def delt(x):\n",
    "    ajus = np.polyfit(fcc, ox, 9)\n",
    "    func = np.poly1d(ajus)\n",
    "    return func\n",
    "def delt2():\n",
    "    ajus2 = np.polyfit(ox, fcc, 9)\n",
    "    func2 = np.poly1d(ajus2)\n",
    "    return func2"
   ]
  },
  {
   "cell_type": "code",
   "execution_count": 6,
   "metadata": {},
   "outputs": [],
   "source": [
    "def integr(x, c):\n",
    "    x2 = lambda x: c\n",
    "    integrate.quad(x2, -np.inf, delt(fx))\n",
    "    return (4**3 / 3.)"
   ]
  },
  {
   "cell_type": "markdown",
   "metadata": {},
   "source": [
    "### Se aproxima la función de distribución por medio de la derivada de $F(x)$"
   ]
  },
  {
   "cell_type": "markdown",
   "metadata": {},
   "source": [
    "$\\frac{\\partial F(x)}{\\partial x}=f(x)$"
   ]
  },
  {
   "cell_type": "code",
   "execution_count": 7,
   "metadata": {},
   "outputs": [
    {
     "data": {
      "image/png": "[encoded data removed]",
      "text/plain": [
       "<matplotlib.figure.Figure at 0x7f329e4be210>"
      ]
     },
     "metadata": {},
     "output_type": "display_data"
    }
   ],
   "source": [
    "fdistr = np.zeros(np.size(ox))\n",
    "for i in range(np.size(ox)):\n",
    "        fx=np.random.uniform(0,1)\n",
    "        #print(fx)\n",
    "        #print(delt(fx))\n",
    "        c=np.array([0.1])\n",
    "        #x = Symbol('x')\n",
    "        fprime = delt2().deriv()\n",
    "        fdistr[i] = fprime(ox[i])\n",
    "plt.plot(ox,fdistr,color='r', linewidth=2)\n",
    "plt.hist(x,bins='auto', normed = True, facecolor='blue', edgecolor='black')\n",
    "ylim(0.0,max(fdistr))\n",
    "plt.show()        "
   ]
  }
 ],
 "metadata": {
  "kernelspec": {
   "display_name": "Python 2",
   "language": "python",
   "name": "python2"
  },
  "language_info": {
   "codemirror_mode": {
    "name": "ipython",
    "version": 2
   },
   "file_extension": ".py",
   "mimetype": "text/x-python",
   "name": "python",
   "nbconvert_exporter": "python",
   "pygments_lexer": "ipython2",
   "version": "2.7.15"
  }
 },
 "nbformat": 4,
 "nbformat_minor": 2
}
